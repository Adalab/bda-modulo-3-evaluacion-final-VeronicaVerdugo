{
 "cells": [
  {
   "cell_type": "code",
   "execution_count": null,
   "metadata": {},
   "outputs": [],
   "source": [
    "## Replace: reemplazar valores en una columna\n",
    "df['pdays'] = df['pdays'].replace(999, np.nan)\n",
    "# Map: aplicar una función a cada valor de una columna\n",
    "\n",
    "df['loan'] = df['loan'].map({0.0: \"No\", 1.0: \"Si\"})\n",
    "df.head()\n",
    "df2 = df.drop(columns=[\"title\"])\n",
    "\n",
    "fig,axes= plt.subplots (nrows=1, ncols= 2, figsize = (10,5))\n",
    "\n",
    "sns.boxplot(data = df,\n",
    "            x= \"salario\",\n",
    "            palette= \"viridis\",\n",
    "            ax= axes[0]);"
   ]
  }
 ],
 "metadata": {
  "language_info": {
   "name": "python"
  }
 },
 "nbformat": 4,
 "nbformat_minor": 2
}
